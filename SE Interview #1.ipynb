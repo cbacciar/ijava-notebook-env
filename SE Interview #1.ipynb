{
 "cells": [
  {
   "cell_type": "code",
   "execution_count": null,
   "source": [
    "// names1's data is located in local directory as a txt file\r\n",
    "String fnames1  = \"names1.txt\";          \r\n",
    "// names2's data is located in local directory as a csv file\r\n",
    "String fnames2 = \"names2.csv\"\r\n",
    "\r\n",
    "// Task: \r\n",
    "// Print a table view of the full first_name strings found across the combined (2) datasources their accumulative occurrence count, ideally in decending order\r\n",
    "\r\n",
    "\r\n",
    "\r\n",
    "// output:\r\n",
    "//\r\n",
    "//   | first_name | count  |\r\n",
    "//   | John       |   15   |\r\n",
    "//   | Sara       |   12   |\r\n",
    "//   | Amar       |    4   |\r\n"
   ],
   "outputs": [],
   "metadata": {}
  }
 ],
 "metadata": {
  "kernelspec": {
   "display_name": "Java",
   "language": "java",
   "name": "java"
  },
  "language_info": {
   "codemirror_mode": "java",
   "file_extension": ".java",
   "mimetype": "text/x-java-source",
   "name": "Java",
   "pygments_lexer": "java",
   "version": "9+181"
  }
 },
 "nbformat": 4,
 "nbformat_minor": 2
}